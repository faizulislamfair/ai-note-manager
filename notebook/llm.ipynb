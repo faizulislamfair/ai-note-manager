{
 "cells": [
  {
   "cell_type": "code",
   "execution_count": null,
   "id": "10836884",
   "metadata": {},
   "outputs": [],
   "source": [
    "print(\"AI Note Manager App\")"
   ]
  },
  {
   "cell_type": "code",
   "execution_count": null,
   "id": "73eb715d",
   "metadata": {},
   "outputs": [],
   "source": [
    "from transformers import pipeline\n",
    "\n",
    "sentiment_classifier = pipeline(\n",
    "    task=\"sentiment-analysis\"\n",
    ")"
   ]
  },
  {
   "cell_type": "code",
   "execution_count": null,
   "id": "052649c5",
   "metadata": {},
   "outputs": [],
   "source": [
    "text = \"I love learning about AI\"\n",
    "sentiment = sentiment_classifier(text)\n",
    "print(sentiment[0]['label'])"
   ]
  }
 ],
 "metadata": {
  "kernelspec": {
   "display_name": "base",
   "language": "python",
   "name": "python3"
  },
  "language_info": {
   "codemirror_mode": {
    "name": "ipython",
    "version": 3
   },
   "file_extension": ".py",
   "mimetype": "text/x-python",
   "name": "python",
   "nbconvert_exporter": "python",
   "pygments_lexer": "ipython3",
   "version": "3.9.13"
  }
 },
 "nbformat": 4,
 "nbformat_minor": 5
}
