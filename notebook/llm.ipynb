{
 "cells": [
  {
   "cell_type": "code",
   "execution_count": null,
   "id": "10836884",
   "metadata": {},
   "outputs": [],
   "source": [
    "print(\"AI Note Manager App\")"
   ]
  },
  {
   "cell_type": "code",
   "execution_count": null,
   "id": "73eb715d",
   "metadata": {},
   "outputs": [],
   "source": [
    "from transformers import pipeline\n",
    "\n",
    "sentiment_classifier = pipeline(\n",
    "    task=\"sentiment-analysis\"\n",
    ")"
   ]
  },
  {
   "cell_type": "code",
   "execution_count": null,
   "id": "052649c5",
   "metadata": {},
   "outputs": [],
   "source": [
    "text = \"I love learning about AI\"\n",
    "sentiment = sentiment_classifier(text)\n",
    "print(sentiment[0]['label'])"
   ]
  },
  {
   "cell_type": "code",
   "execution_count": null,
   "id": "e7f27a51",
   "metadata": {},
   "outputs": [],
   "source": [
    "\"\"\"\n",
    "Tasks:\n",
    "1. Sentiment Analysis\n",
    "2. Tag\n",
    "3. Text Summarization\n",
    "\"\"\"\n",
    "\n",
    "sample_note = {\n",
    "    \"title\": \"Learning AI\",\n",
    "    \"note\": \"AI is awesome. I want to learn AI today.\"\n",
    "}\n",
    "\n",
    "\n",
    "\n",
    "from transformers import pipeline\n",
    "\n",
    "\n",
    "def sentiment_classification(text):\n",
    "\n",
    "    classifier = pipeline(\n",
    "        task=\"sentiment-analysis\",\n",
    "        model=\"distilbert-base-uncased-finetuned-sst-2-english\"\n",
    "    )\n",
    "\n",
    "    result = classifier(text)\n",
    "    label, score = result[0]['label'], result[0]['score']\n",
    "\n",
    "\n",
    "    if label == 'POSITIVE' and score > 0.9: return \"😊\"\n",
    "    elif label == 'POSITIVE': return \"🙂\"\n",
    "    elif label == 'NEGATIVE' and score > 0.9: return \"😟\"\n",
    "    return \"😐\"\n",
    "\n",
    "\n",
    "\n",
    "sentiment = sentiment_classification(\n",
    "  sample_note['note']\n",
    ")\n",
    "\n",
    "\n",
    "print(sentiment)"
   ]
  },
  {
   "cell_type": "code",
   "execution_count": null,
   "id": "7bf65aae",
   "metadata": {},
   "outputs": [],
   "source": [
    "def assign_tag(note):\n",
    "    classifier = pipeline(\n",
    "        task='zero-shot-classification',\n",
    "        model='facebook/bart-large-mnli'\n",
    "    )\n",
    "\n",
    "    prompt = f\"{note['title']}\\n{note['note']}. Classify.\"\n",
    "    candidate_labels = [\n",
    "        'Educational Session',\n",
    "        'Project Meeting',\n",
    "        'Personal Note'\n",
    "    ]\n",
    "\n",
    "\n",
    "    result = classifier(\n",
    "        prompt,\n",
    "        candidate_labels,\n",
    "        multi_label='False'\n",
    "    )\n",
    "\n",
    "    return result['labels'][0]\n",
    "\n",
    "assign_tag(sample_note)"
   ]
  },
  {
   "cell_type": "code",
   "execution_count": null,
   "id": "b7c8987d",
   "metadata": {},
   "outputs": [],
   "source": [
    "def summarize_note(note):\n",
    "    summarizer = pipeline(\n",
    "        task='summarization',\n",
    "        model='facebook/bart-large-cnn'\n",
    "    )\n",
    "\n",
    "    prompt = f\"{note['title']}\\n{note['note']}. Summarize concisely.\"\n",
    "\n",
    "    summary = summarizer(\n",
    "        prompt,\n",
    "        max_length=200,\n",
    "        min_length=10\n",
    "    )\n",
    "\n",
    "\n",
    "    return summary[0]['summary_text']\n",
    "\n",
    "\n",
    "sample_note = {\n",
    "    'title': 'Bangladesh',\n",
    "    'note': (\"Bangladesh,[a] officially the People's Republic of Bangladesh,[b] is a country in South Asia. It is the eighth-most populous country in the world and among the most densely populated with a population of over 171 million within an area of 148,460 square kilometres (57,320 sq mi). Bangladesh shares land borders with India to the north, west, and east, and Myanmar to the southeast. It has a coastline along the Bay of Bengal to its south and is separated from Bhutan and Nepal by the Siliguri Corridor, and from China by the Indian state of Sikkim to its north. Dhaka, the capital and largest city, is the nation's political, financial, and cultural centre. Chittagong is the second-largest city and the busiest port of the country.The territory of modern Bangladesh was a stronghold of many Buddhist and Hindu dynasties in ancient history. Following the Muslim conquest in 1204, the region saw Sultanate and Mughal rule. During the Mughal period, particularly under the Bengal Subah, the region emerged as one of the most prosperous and commercially active parts of the empire, known for its thriving textile industry and agricultural productivity. The Battle of Plassey in 1757 marked the beginning of British colonial rule for the following two centuries.\")\n",
    "}\n",
    "\n",
    "\n",
    "summary = summarize_note(sample_note)\n",
    "\n",
    "print(summary)"
   ]
  },
  {
   "cell_type": "code",
   "execution_count": null,
   "id": "f9237a0d",
   "metadata": {},
   "outputs": [],
   "source": [
    "def process_notes(note):\n",
    "\n",
    "  sentiment = sentiment_classification(note['note'])\n",
    "  tag = assign_tag(note)\n",
    "  summary = summarize_note(note)\n",
    "\n",
    "  return {\n",
    "      'title': note['title'],\n",
    "      'note': note['note'],\n",
    "      'sentiment': sentiment,\n",
    "      'tag': tag,\n",
    "      'summary': summary\n",
    "  }\n",
    "\n",
    "\n",
    "process_notes(sample_note)"
   ]
  }
 ],
 "metadata": {
  "kernelspec": {
   "display_name": "base",
   "language": "python",
   "name": "python3"
  },
  "language_info": {
   "codemirror_mode": {
    "name": "ipython",
    "version": 3
   },
   "file_extension": ".py",
   "mimetype": "text/x-python",
   "name": "python",
   "nbconvert_exporter": "python",
   "pygments_lexer": "ipython3",
   "version": "3.9.13"
  }
 },
 "nbformat": 4,
 "nbformat_minor": 5
}
