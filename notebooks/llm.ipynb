{
 "cells": [
  {
   "cell_type": "code",
   "id": "initial_id",
   "metadata": {
    "collapsed": true,
    "ExecuteTime": {
     "end_time": "2025-06-27T03:19:41.143898Z",
     "start_time": "2025-06-27T03:19:41.121219Z"
    }
   },
   "source": [
    "\"\"\"\n",
    "CodeFusion | Day 3 | Pretrained Models with Hugging Face Pipelines\n",
    "\n",
    "We will discuss\n",
    "Session 1: The power of pretrained models\n",
    "Session 2: Hugging face pipelines\n",
    "Session 3: Supercharge you application with AI\n",
    "\"\"\"\n",
    "print(\"Welcome to CodeFusion Day 3\")"
   ],
   "outputs": [
    {
     "name": "stdout",
     "output_type": "stream",
     "text": [
      "Welcome to CodeFusion Day 3\n"
     ]
    }
   ],
   "execution_count": 1
  },
  {
   "metadata": {},
   "cell_type": "markdown",
   "source": "### Session 1: The Power of Pretrained Models",
   "id": "200b5bd26bf527e7"
  },
  {
   "metadata": {
    "ExecuteTime": {
     "end_time": "2025-06-27T03:19:41.159247Z",
     "start_time": "2025-06-27T03:19:41.143898Z"
    }
   },
   "cell_type": "code",
   "source": [
    "\"\"\"\n",
    "Key concepts:\n",
    "[] Pretrained models are neural networks trained on large datasets for general tasks (e.g., BERT, GPT)\n",
    "   Pretrained model pipeline (data → model → task).\n",
    "[] They can be fined-tuned for specific tasks with minimal data\n",
    "[] Benefits: Saves time, reduces need for large datasets, leverage expert knowledge. \n",
    "\n",
    "Explain: Pretrained models are like \"knowledgeable assistants\" pretrained on vast data, ready to adapt to new tasks.\n",
    "\n",
    "Interactive Questions: \n",
    "\"Can you name a task where pretrained models might be useful?\"\n",
    "\n",
    "\n",
    "Applications:\n",
    "[] Text: Sentiment analysis (e.g., analyzing customer reviews).\n",
    "[] Vision: Image classification (e.g., identifying objects in photos).\n",
    "[] Speech: Automatic speech recognition (e.g., transcribing audio).\n",
    "[] BERT for search engines, DALL-E for image generation.\n",
    "\n",
    "Interactive Question: \"What's a real-world problem you'd love a pretrained model to solve?\"\n",
    "\n",
    "\n",
    "\"\"\"\n",
    "\n",
    "print(\"Pretrained models are awesome.\")"
   ],
   "id": "673cfa20c2431aa4",
   "outputs": [
    {
     "name": "stdout",
     "output_type": "stream",
     "text": [
      "Pretrained models are awesome.\n"
     ]
    }
   ],
   "execution_count": 2
  },
  {
   "metadata": {
    "ExecuteTime": {
     "end_time": "2025-06-27T03:20:43.279135Z",
     "start_time": "2025-06-27T03:19:41.161258Z"
    }
   },
   "cell_type": "code",
   "source": [
    "from transformers import pipeline\n",
    "classifier = pipeline(\"sentiment-analysis\")\n",
    "result = classifier(\"I love learning about AI!\")\n",
    "print(result)"
   ],
   "id": "a19cce4968d7ca51",
   "outputs": [
    {
     "name": "stderr",
     "output_type": "stream",
     "text": [
      "No model was supplied, defaulted to distilbert/distilbert-base-uncased-finetuned-sst-2-english and revision 714eb0f (https://huggingface.co/distilbert/distilbert-base-uncased-finetuned-sst-2-english).\n",
      "Using a pipeline without specifying a model name and revision in production is not recommended.\n"
     ]
    },
    {
     "name": "stdout",
     "output_type": "stream",
     "text": [
      "WARNING:tensorflow:From E:\\PyCharmProjects\\venv_manager\\.venv\\lib\\site-packages\\tf_keras\\src\\losses.py:2976: The name tf.losses.sparse_softmax_cross_entropy is deprecated. Please use tf.compat.v1.losses.sparse_softmax_cross_entropy instead.\n",
      "\n"
     ]
    },
    {
     "name": "stderr",
     "output_type": "stream",
     "text": [
      "Device set to use cuda:0\n"
     ]
    },
    {
     "name": "stdout",
     "output_type": "stream",
     "text": [
      "[{'label': 'POSITIVE', 'score': 0.99968421459198}]\n"
     ]
    },
    {
     "name": "stderr",
     "output_type": "stream",
     "text": [
      "E:\\PyCharmProjects\\venv_manager\\.venv\\lib\\site-packages\\transformers\\models\\distilbert\\modeling_distilbert.py:402: UserWarning: 1Torch was not compiled with flash attention. (Triggered internally at ..\\aten\\src\\ATen\\native\\transformers\\cuda\\sdp_utils.cpp:263.)\n",
      "  attn_output = torch.nn.functional.scaled_dot_product_attention(\n"
     ]
    }
   ],
   "execution_count": 3
  },
  {
   "metadata": {
    "ExecuteTime": {
     "end_time": "2025-06-27T03:20:43.289276Z",
     "start_time": "2025-06-27T03:20:43.279135Z"
    }
   },
   "cell_type": "code",
   "source": [
    "\"\"\" Hugging face (https://huggingface.co/)\n",
    "\n",
    "Interactive Question: How many of you use hugging face pipelines?\n",
    "\n",
    "Key Concepts:\n",
    "[] Hugging Face is an open-source platform focused on machine learning, especially natural language processing (NLP).\n",
    "[] It provides tools, models, and datasets for developers and researchers.\n",
    "[] Famous for the Transformers library, which offers easy access to pre-trained AI models.\n",
    "[] Founded in 2016, based in New York, with a mission to make AI accessible to everyone.\n",
    "\n",
    "Key Features:\n",
    "[] Model Hub: Thousands of pre-trained models for tasks like text generation, translation, and sentiment analysis.\n",
    "[] Datasets Library: A wide range of publicly available datasets for machine learning tasks.\n",
    "[] HF Space: A platform for hosting and sharing machine learning apps, demos, and models with an easy-to-use interface.\n",
    "[] Community-Driven: Encourages collaboration through open-source contributions and discussions.\n",
    "[] Applications: Widely used in academia, industry, and personal projects for fast AI development.\n",
    "\"\"\"\n",
    "print(\"Hugging face is awesome\")"
   ],
   "id": "a4c6182fde91131d",
   "outputs": [
    {
     "name": "stdout",
     "output_type": "stream",
     "text": [
      "Hugging face is awesome\n"
     ]
    }
   ],
   "execution_count": 4
  },
  {
   "metadata": {},
   "cell_type": "markdown",
   "source": "### Session 2. Hugging Face Pipelines",
   "id": "a0c1a90c3f70c62a"
  },
  {
   "metadata": {
    "ExecuteTime": {
     "end_time": "2025-06-27T03:20:44.336181Z",
     "start_time": "2025-06-27T03:20:43.289276Z"
    }
   },
   "cell_type": "code",
   "source": [
    "\"\"\" \n",
    "Installation: pip install transformers\n",
    "\n",
    "[] Hugging Face Transformers is an open-source library with pre-trained models for NLP, vision, audio, and more.\n",
    "[] The pipeline is a simplified API for inference tasks.\n",
    "\n",
    "Discuss the questions:\n",
    "[] Can pipelines handle other languages?\n",
    "[] How do I choose a model?\n",
    "\"\"\"\n",
    "\n",
    "print(\"Sentiment Analysis\")\n",
    "from transformers import pipeline\n",
    "classifier = pipeline(\"sentiment-analysis\")\n",
    "texts = [\n",
    "    \"This movie is amazing!\", \n",
    "    \"I did not enjoy the food.\"\n",
    "]\n",
    "results = classifier(texts)\n",
    "for text, result in zip(texts, results):\n",
    "    print(f\"Text: {text} → {result['label']}\")\n",
    "    print(f\"Confidence: {result['score']*100:.2f}%\")"
   ],
   "id": "77e9f321a8f957f7",
   "outputs": [
    {
     "name": "stderr",
     "output_type": "stream",
     "text": [
      "No model was supplied, defaulted to distilbert/distilbert-base-uncased-finetuned-sst-2-english and revision 714eb0f (https://huggingface.co/distilbert/distilbert-base-uncased-finetuned-sst-2-english).\n",
      "Using a pipeline without specifying a model name and revision in production is not recommended.\n"
     ]
    },
    {
     "name": "stdout",
     "output_type": "stream",
     "text": [
      "Sentiment Analysis\n"
     ]
    },
    {
     "name": "stderr",
     "output_type": "stream",
     "text": [
      "Device set to use cuda:0\n"
     ]
    },
    {
     "name": "stdout",
     "output_type": "stream",
     "text": [
      "Text: This movie is amazing! → POSITIVE\n",
      "Confidence: 99.99%\n",
      "Text: I did not enjoy the food. → NEGATIVE\n",
      "Confidence: 99.95%\n"
     ]
    }
   ],
   "execution_count": 5
  },
  {
   "metadata": {
    "ExecuteTime": {
     "end_time": "2025-06-27T03:20:47.644099Z",
     "start_time": "2025-06-27T03:20:44.336181Z"
    }
   },
   "cell_type": "code",
   "source": [
    "generator = pipeline(\"text-generation\", model=\"gpt2\")\n",
    "prompt = \"Bangladesh is a \"\n",
    "result = generator(prompt, max_length=50)\n",
    "print(result[0][\"generated_text\"])"
   ],
   "id": "50eba8d517b4f0d6",
   "outputs": [
    {
     "name": "stderr",
     "output_type": "stream",
     "text": [
      "Device set to use cuda:0\n",
      "Truncation was not explicitly activated but `max_length` is provided a specific value, please use `truncation=True` to explicitly truncate examples to max length. Defaulting to 'longest_first' truncation strategy. If you encode pairs of sequences (GLUE-style) with the tokenizer you can select this strategy more precisely by providing a specific strategy to `truncation`.\n",
      "Setting `pad_token_id` to `eos_token_id`:50256 for open-end generation.\n"
     ]
    },
    {
     "name": "stdout",
     "output_type": "stream",
     "text": [
      "Bangladesh is a izzarjar region located near the border with Pakistan to southern Bangladesh. It's a part of Jammu Kashmir in Jammu, Delhi and some parts of the Central Valley of Kashmir. It plays a pivotal role. The\n"
     ]
    }
   ],
   "execution_count": 6
  },
  {
   "metadata": {},
   "cell_type": "markdown",
   "source": "### Session 3: Supercharge Your Software with AI",
   "id": "3feb175bc46f5182"
  },
  {
   "metadata": {
    "ExecuteTime": {
     "end_time": "2025-06-27T03:20:47.654273Z",
     "start_time": "2025-06-27T03:20:47.644827Z"
    }
   },
   "cell_type": "code",
   "source": [
    "sample_note = [\n",
    "    {\n",
    "        \"title\": \"Personal Health Check-In\",\n",
    "        \"note\": (\n",
    "            \"Took some extra time this morning to reflect on my health and well-being as part of my ongoing personal growth. \"\n",
    "            \"Over the past few months, I’ve felt my energy fluctuate quite a lot — sometimes waking up refreshed, other times feeling sluggish — and I want to understand these patterns better. \"\n",
    "            \"This reflection has helped me recognize that my habits around sleep, diet, exercise, and stress management all play a role in my day-to-day health. \"\n",
    "            \"To address this, I’m setting a clear intention: I will go for a walk every evening after work to stay active, clear my mind, and create a more sustainable routine that fits into my schedule. \"\n",
    "            \"I plan to make these walks a space for quiet thinking, listening to my favorite podcasts or simply appreciating my surroundings so that movement also becomes a mental reset. \"\n",
    "            \"I also scheduled a doctor’s appointment for next week to follow up on my last check-up, review my lab results, and talk about any lingering health concerns. \"\n",
    "            \"Additionally, I want to pay closer attention to my eating habits, especially making sure that I get a good balance of vegetables, fruits, and protein at each meal. \"\n",
    "            \"I’m going to prepare a simple meal plan for the coming week to make grocery shopping easier and ensure I don’t skip meals when my schedule gets busy. \"\n",
    "            \"Beyond physical health, I recognize that my emotional and mental well-being deserve regular care too. \"\n",
    "            \"That’s why I plan to dedicate a few minutes every morning to light stretching and mindfulness exercises — this practice will help me ground myself before starting the day. \"\n",
    "            \"At the end of the week, I’d like to take some time to journal my progress, acknowledge my wins (no matter how small), and note any challenges so that I can continuously improve. \"\n",
    "            \"Writing this all down reminds me that health is a lifelong journey — one that I can approach with patience, consistency, and compassion toward myself. \"\n",
    "            \"I feel hopeful that these small steps will add up over time and help me feel more energetic, centered, and at peace with my body and mind.\"\n",
    "        )\n",
    "    },\n",
    "    {\n",
    "        \"title\": \"Product Development Sync-Up\",\n",
    "        \"note\": (\n",
    "            \"The team gathered to discuss the current status of the mobile app development project. \"\n",
    "            \"We reviewed the sprint backlog and identified blockers in the payment integration feature. \"\n",
    "            \"The team agreed to split the task into front-end and back-end subtasks and assigned owners. \"\n",
    "            \"Next steps include preparing a demo for the client next week and drafting the release notes for version 1.2.\"\n",
    "        )\n",
    "    },\n",
    "    {\n",
    "        \"title\": \"Data Science Workshop Recap\",\n",
    "        \"note\": (\n",
    "            \"The class focused on training machine learning models and evaluating performance metrics. \"\n",
    "            \"Students practiced hands-on exercises to fine-tune hyperparameters and learned best practices for avoiding overfitting. \"\n",
    "            \"We ended with a Q&A session where students raised questions about model interpretability and deployment. \"\n",
    "            \"Upcoming sessions will explore feature engineering and advanced deep learning techniques.\"\n",
    "        )\n",
    "    },\n",
    "    {\n",
    "        \"title\": \"Feeling Overwhelmed but Hopeful\",\n",
    "        \"note\": (\n",
    "            \"Today felt quite overwhelming with so many tasks and deadlines piling up. \"\n",
    "            \"Despite the stress, I feel hopeful that by organizing my time better and reaching out for support, I can make progress. \"\n",
    "            \"Writing this down to acknowledge my emotions and remind myself that it's okay to take one step at a time.\"\n",
    "        )\n",
    "    }\n",
    "]\n"
   ],
   "id": "8b00bc66b9494a51",
   "outputs": [],
   "execution_count": 7
  },
  {
   "metadata": {
    "ExecuteTime": {
     "end_time": "2025-06-27T03:20:47.664343Z",
     "start_time": "2025-06-27T03:20:47.656047Z"
    }
   },
   "cell_type": "code",
   "source": [
    "def preprocess_text(text: str) -> str:\n",
    "    \"\"\"Clean and prepare text for processing.\"\"\"\n",
    "    return text.strip().replace(\"\\n\", \" \")\n",
    "\n",
    "# Example usage:\n",
    "raw_text = \"   This is a sample text.\\nIt contains newlines and extra spaces.   \"\n",
    "clean_text = preprocess_text(raw_text)\n",
    "\n",
    "print(\"Original text:\")\n",
    "print(repr(raw_text))\n",
    "print(\"\\nCleaned text:\")\n",
    "print(repr(clean_text))"
   ],
   "id": "b8a2c9eb4c072b48",
   "outputs": [
    {
     "name": "stdout",
     "output_type": "stream",
     "text": [
      "Original text:\n",
      "'   This is a sample text.\\nIt contains newlines and extra spaces.   '\n",
      "\n",
      "Cleaned text:\n",
      "'This is a sample text. It contains newlines and extra spaces.'\n"
     ]
    }
   ],
   "execution_count": 8
  },
  {
   "metadata": {
    "ExecuteTime": {
     "end_time": "2025-06-27T03:20:47.674531Z",
     "start_time": "2025-06-27T03:20:47.664343Z"
    }
   },
   "cell_type": "code",
   "source": [
    "\"\"\"Task: Summarization\"\"\"\n",
    "\n",
    "def summarize_note(note_data):\n",
    "    \"\"\"Generate a summary of the note using a pre-trained LLM.\"\"\"\n",
    "    try:\n",
    "        summarizer = pipeline(\"summarization\", model=\"facebook/bart-large-cnn\")\n",
    "        text = f\"{note_data['title']}\\n{note_data['note']}\"\n",
    "        summary = summarizer(\n",
    "            preprocess_text(text), \n",
    "            max_length=100, \n",
    "            min_length=20, \n",
    "            do_sample=False\n",
    "        )[0]['summary_text']\n",
    "        return summary\n",
    "    except Exception as e:\n",
    "        return f\"Error summarizing note: {str(e)}\""
   ],
   "id": "8cf3299a93c8cd58",
   "outputs": [],
   "execution_count": 9
  },
  {
   "metadata": {
    "ExecuteTime": {
     "end_time": "2025-06-27T03:20:54.022220Z",
     "start_time": "2025-06-27T03:20:47.674531Z"
    }
   },
   "cell_type": "code",
   "source": "summarize_note(sample_note[0])",
   "id": "5acd6ae74cabca83",
   "outputs": [
    {
     "name": "stderr",
     "output_type": "stream",
     "text": [
      "Device set to use cuda:0\n"
     ]
    },
    {
     "data": {
      "text/plain": [
       "'\"I’m setting a clear intention: I will go for a walk every evening after work to stay active, clear my mind, and create a more sustainable routine\" \"I want to pay closer attention to my eating habits, especially making sure that I get a good balance of vegetables, fruits, and protein at each meal\" \"Health is a lifelong journey — one that I can approach with patience, consistency, and compassion\"'"
      ]
     },
     "execution_count": 10,
     "metadata": {},
     "output_type": "execute_result"
    }
   ],
   "execution_count": 10
  },
  {
   "metadata": {
    "ExecuteTime": {
     "end_time": "2025-06-27T03:20:54.032272Z",
     "start_time": "2025-06-27T03:20:54.022220Z"
    }
   },
   "cell_type": "code",
   "source": [
    "def assign_tag(note_data):\n",
    "    \"\"\"Assign a single tag using zero-shot classification with clearer labels.\"\"\"\n",
    "    try:\n",
    "        from transformers import pipeline\n",
    "        classifier = pipeline(\n",
    "            \"zero-shot-classification\",\n",
    "            model=\"facebook/bart-large-mnli\"\n",
    "        )\n",
    "        text = f\"{note_data['title']}\\n{note_data['note']}\"\n",
    "\n",
    "        # More explicit candidate labels\n",
    "        candidate_labels = [\"Educational session\", \"Project meeting\", \"Personal note\"]\n",
    "\n",
    "        result = classifier(preprocess_text(text), candidate_labels, multi_label=False)\n",
    "\n",
    "        top_label = result['labels'][0]\n",
    "\n",
    "        return top_label\n",
    "    except Exception as e:\n",
    "        return {\"error\": str(e)}"
   ],
   "id": "a3a7c0cfb95e72dc",
   "outputs": [],
   "execution_count": 11
  },
  {
   "metadata": {
    "ExecuteTime": {
     "end_time": "2025-06-27T03:20:59.362698Z",
     "start_time": "2025-06-27T03:20:54.035533Z"
    }
   },
   "cell_type": "code",
   "source": "print(assign_tag(sample_note[2]))  # Expected: \"Educational session\"",
   "id": "96c88ed8954ac5b1",
   "outputs": [
    {
     "name": "stderr",
     "output_type": "stream",
     "text": [
      "Device set to use cuda:0\n"
     ]
    },
    {
     "name": "stdout",
     "output_type": "stream",
     "text": [
      "Educational session\n"
     ]
    }
   ],
   "execution_count": 12
  },
  {
   "metadata": {
    "ExecuteTime": {
     "end_time": "2025-06-27T03:20:59.372749Z",
     "start_time": "2025-06-27T03:20:59.362698Z"
    }
   },
   "cell_type": "code",
   "source": [
    "def analyze_sentiment(note_data) -> str:\n",
    "    \"\"\"Analyze sentiment and map to an emoji.\"\"\"\n",
    "    try:\n",
    "        sentiment_analyzer = pipeline(\"sentiment-analysis\", model=\"distilbert-base-uncased-finetuned-sst-2-english\")\n",
    "        text = f\"{note_data['title']}\\n{note_data['note']}\"\n",
    "        sentiment = sentiment_analyzer(preprocess_text(text))[0]\n",
    "        label, score = sentiment['label'], sentiment['score']\n",
    "        if label == \"POSITIVE\" and score > 0.9:\n",
    "            return \"😊\"\n",
    "        elif label == \"POSITIVE\":\n",
    "            return \"🙂\"\n",
    "        elif label == \"NEGATIVE\" and score > 0.9:\n",
    "            return \"😟\"\n",
    "        else:\n",
    "            return \"😐\"\n",
    "    except Exception as e:\n",
    "        return f\"Error analyzing sentiment: {str(e)}\""
   ],
   "id": "b81d17bfa347d1e3",
   "outputs": [],
   "execution_count": 13
  },
  {
   "metadata": {
    "ExecuteTime": {
     "end_time": "2025-06-27T03:21:00.633462Z",
     "start_time": "2025-06-27T03:20:59.372749Z"
    }
   },
   "cell_type": "code",
   "source": "analyze_sentiment(sample_note[3])",
   "id": "dc1897bbcf747afe",
   "outputs": [
    {
     "name": "stderr",
     "output_type": "stream",
     "text": [
      "Device set to use cuda:0\n"
     ]
    },
    {
     "data": {
      "text/plain": [
       "'😊'"
      ]
     },
     "execution_count": 14,
     "metadata": {},
     "output_type": "execute_result"
    }
   ],
   "execution_count": 14
  },
  {
   "metadata": {
    "ExecuteTime": {
     "end_time": "2025-06-27T03:21:00.643514Z",
     "start_time": "2025-06-27T03:21:00.635475Z"
    }
   },
   "cell_type": "code",
   "source": [
    "def process_notes(notes):\n",
    "    \"\"\"Process a list of notes and return insights, with optional question answering.\"\"\"\n",
    "    results = []\n",
    "    for note_data in notes:\n",
    "        try:\n",
    "            result = {\n",
    "                \"title\": note_data['title'],\n",
    "                \"note\": note_data['note'],\n",
    "                \"summary\": summarize_note(note_data),\n",
    "                \"tag\": assign_tag(note_data),\n",
    "                \"sentiment\": analyze_sentiment(note_data)\n",
    "            }\n",
    "            results.append(result)\n",
    "        except KeyError as e:\n",
    "            results.append({\n",
    "                \"title\": note_data.get('title', 'Unknown'),\n",
    "                \"note\": note_data.get('note', ''),\n",
    "                \"error\": f\"Missing key {e} in note_data. Expected format: {{'title': str, 'note': str}}\"\n",
    "            })\n",
    "\n",
    "    return results"
   ],
   "id": "3f4692083324b9ae",
   "outputs": [],
   "execution_count": 15
  },
  {
   "metadata": {
    "ExecuteTime": {
     "end_time": "2025-06-27T03:21:10.445426Z",
     "start_time": "2025-06-27T03:21:00.645520Z"
    }
   },
   "cell_type": "code",
   "source": [
    "processed_notes = process_notes(sample_note[:1])\n",
    "for result in processed_notes:\n",
    "    print(f\"Title: {result['title']}\")\n",
    "    print(f\"Original Note: {result['note']}\")\n",
    "    print(f\"Summary: {result['summary']}\")\n",
    "    print(f\"Tag: {result['tag']}\")\n",
    "    print(f\"Sentiment: {result['sentiment']}\\n\")"
   ],
   "id": "2fc9eafc02133844",
   "outputs": [
    {
     "name": "stderr",
     "output_type": "stream",
     "text": [
      "Device set to use cuda:0\n",
      "Device set to use cuda:0\n",
      "Device set to use cuda:0\n"
     ]
    },
    {
     "name": "stdout",
     "output_type": "stream",
     "text": [
      "Title: Personal Health Check-In\n",
      "Original Note: Took some extra time this morning to reflect on my health and well-being as part of my ongoing personal growth. Over the past few months, I’ve felt my energy fluctuate quite a lot — sometimes waking up refreshed, other times feeling sluggish — and I want to understand these patterns better. This reflection has helped me recognize that my habits around sleep, diet, exercise, and stress management all play a role in my day-to-day health. To address this, I’m setting a clear intention: I will go for a walk every evening after work to stay active, clear my mind, and create a more sustainable routine that fits into my schedule. I plan to make these walks a space for quiet thinking, listening to my favorite podcasts or simply appreciating my surroundings so that movement also becomes a mental reset. I also scheduled a doctor’s appointment for next week to follow up on my last check-up, review my lab results, and talk about any lingering health concerns. Additionally, I want to pay closer attention to my eating habits, especially making sure that I get a good balance of vegetables, fruits, and protein at each meal. I’m going to prepare a simple meal plan for the coming week to make grocery shopping easier and ensure I don’t skip meals when my schedule gets busy. Beyond physical health, I recognize that my emotional and mental well-being deserve regular care too. That’s why I plan to dedicate a few minutes every morning to light stretching and mindfulness exercises — this practice will help me ground myself before starting the day. At the end of the week, I’d like to take some time to journal my progress, acknowledge my wins (no matter how small), and note any challenges so that I can continuously improve. Writing this all down reminds me that health is a lifelong journey — one that I can approach with patience, consistency, and compassion toward myself. I feel hopeful that these small steps will add up over time and help me feel more energetic, centered, and at peace with my body and mind.\n",
      "Summary: \"I’m setting a clear intention: I will go for a walk every evening after work to stay active, clear my mind, and create a more sustainable routine\" \"I want to pay closer attention to my eating habits, especially making sure that I get a good balance of vegetables, fruits, and protein at each meal\" \"Health is a lifelong journey — one that I can approach with patience, consistency, and compassion\"\n",
      "Tag: Personal note\n",
      "Sentiment: 😊\n",
      "\n"
     ]
    }
   ],
   "execution_count": 16
  }
 ],
 "metadata": {
  "kernelspec": {
   "display_name": "Python 3",
   "language": "python",
   "name": "python3"
  },
  "language_info": {
   "codemirror_mode": {
    "name": "ipython",
    "version": 2
   },
   "file_extension": ".py",
   "mimetype": "text/x-python",
   "name": "python",
   "nbconvert_exporter": "python",
   "pygments_lexer": "ipython2",
   "version": "2.7.6"
  }
 },
 "nbformat": 4,
 "nbformat_minor": 5
}
